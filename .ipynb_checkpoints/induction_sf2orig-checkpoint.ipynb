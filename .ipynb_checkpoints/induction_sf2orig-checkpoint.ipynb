{
 "cells": [
  {
   "cell_type": "code",
   "execution_count": 1,
   "id": "75471414",
   "metadata": {
    "scrolled": true
   },
   "outputs": [
    {
     "data": {
      "text/plain": [
       "['/nobackupp17/lmatilsk/benchmarks/j2011_mhd_linear',\n",
       " '/home1/lmatilsk/miniconda3/envs/custom/lib/python37.zip',\n",
       " '/home1/lmatilsk/miniconda3/envs/custom/lib/python3.7',\n",
       " '/home1/lmatilsk/miniconda3/envs/custom/lib/python3.7/lib-dynload',\n",
       " '',\n",
       " '/home1/lmatilsk/miniconda3/envs/custom/lib/python3.7/site-packages',\n",
       " '/home1/lmatilsk/miniconda3/envs/custom/lib/python3.7/site-packages/IPython/extensions',\n",
       " '/home1/lmatilsk/.ipython',\n",
       " '/home1/lmatilsk/rayleigh/code/post_processing',\n",
       " '/home1/lmatilsk/rayleigh/utils/compute',\n",
       " '/home1/lmatilsk/rayleigh/code/post_processing']"
      ]
     },
     "execution_count": 1,
     "metadata": {},
     "output_type": "execute_result"
    }
   ],
   "source": [
    "import sys, os\n",
    "import numpy as np\n",
    "import matplotlib.pyplot as plt\n",
    "sys.path.append(os.environ['rapp'])\n",
    "sys.path.append(os.environ['raco'])\n",
    "from rayleigh_diagnostics import Shell_Spectra, Shell_Slices, GridInfo\n",
    "from reference_tools import equation_coefficients\n",
    "import common\n",
    "sys.path"
   ]
  },
  {
   "cell_type": "code",
   "execution_count": 2,
   "id": "050f6415",
   "metadata": {},
   "outputs": [
    {
     "data": {
      "text/plain": [
       "'/nobackupp17/lmatilsk/benchmarks/j2011_mhd_linear/00_test_equations_sf2/'"
      ]
     },
     "execution_count": 2,
     "metadata": {},
     "output_type": "execute_result"
    }
   ],
   "source": [
    "dirname = './00_test_equations_sf2/'\n",
    "os.getcwd() + dirname[1:]"
   ]
  },
  {
   "cell_type": "code",
   "execution_count": 3,
   "id": "6a8f91a8",
   "metadata": {},
   "outputs": [
    {
     "name": "stdout",
     "output_type": "stream",
     "text": [
      "./00_test_equations_sf2/Shell_Spectra/15200050\n"
     ]
    }
   ],
   "source": [
    "radatadir = dirname + 'Shell_Spectra/'\n",
    "the_file = radatadir + os.listdir(radatadir)[0]\n",
    "spec = Shell_Spectra(the_file,'')\n",
    "print(the_file)"
   ]
  },
  {
   "cell_type": "code",
   "execution_count": 4,
   "id": "8bae9f7d",
   "metadata": {},
   "outputs": [
    {
     "name": "stdout",
     "output_type": "stream",
     "text": [
      "./00_test_equations_sf2/Shell_Slices/15200050\n"
     ]
    }
   ],
   "source": [
    "radatadir = dirname + 'Shell_Slices/'\n",
    "the_file = radatadir + os.listdir(radatadir)[0]\n",
    "sslice = Shell_Slices(the_file,'')\n",
    "print(the_file)"
   ]
  },
  {
   "cell_type": "code",
   "execution_count": 5,
   "id": "4d8ace04",
   "metadata": {},
   "outputs": [
    {
     "name": "stdout",
     "output_type": "stream",
     "text": [
      "irvals =  [ 18  29  42  53  63  74  85  98 109]\n"
     ]
    }
   ],
   "source": [
    "# break up shell spectra data\n",
    "vals = spec.vals\n",
    "vals_ss = sslice.vals\n",
    "\n",
    "times =  spec.time\n",
    "dt = times[2:] - times[1:-1]\n",
    "dt = dt.reshape((1, 1, 1, len(dt)))\n",
    "dt_old = times[1:-1] - times[:-2]\n",
    "dt_old = dt_old.reshape((1, 1, 1, len(dt_old)))\n",
    "\n",
    "lut = spec.lut\n",
    "lut_ss = sslice.lut\n",
    "irvals = spec.inds\n",
    "\n",
    "print ('irvals = ', irvals)"
   ]
  },
  {
   "cell_type": "code",
   "execution_count": 6,
   "id": "c84673f4",
   "metadata": {},
   "outputs": [
    {
     "name": "stdout",
     "output_type": "stream",
     "text": [
      "(128, 128, 9, 19, 50)\n"
     ]
    }
   ],
   "source": [
    "print (np.shape(vals))"
   ]
  },
  {
   "cell_type": "code",
   "execution_count": 7,
   "id": "61630755",
   "metadata": {},
   "outputs": [],
   "source": [
    "# get rotation period (for time axis)\n",
    "eq = equation_coefficients()\n",
    "eq.read(dirname + 'equation_coefficients')\n",
    "Om0 = eq.constants[0]/2\n",
    "prot = 2*np.pi/Om0\n",
    "t = times/prot"
   ]
  },
  {
   "cell_type": "code",
   "execution_count": 8,
   "id": "9d8aeced",
   "metadata": {},
   "outputs": [
    {
     "name": "stdout",
     "output_type": "stream",
     "text": [
      "200.0\n",
      "0.0\n",
      "50\n"
     ]
    }
   ],
   "source": [
    "# check if timestep changes (usually doesn't over 1000 iters)\n",
    "print(np.mean(np.diff(times)))\n",
    "print(np.std(np.diff(times)))\n",
    "print (len(times))"
   ]
  },
  {
   "cell_type": "code",
   "execution_count": 9,
   "id": "e2a2e1d9",
   "metadata": {},
   "outputs": [
    {
     "data": {
      "text/plain": [
       "1.4142135623730951"
      ]
     },
     "execution_count": 9,
     "metadata": {},
     "output_type": "execute_result"
    }
   ],
   "source": [
    "np.abs(1+1j)"
   ]
  },
  {
   "cell_type": "code",
   "execution_count": 10,
   "id": "8e7e00a4",
   "metadata": {},
   "outputs": [
    {
     "name": "stdout",
     "output_type": "stream",
     "text": [
      "(192, 1, 1)\n",
      "(384, 192, 9, 19, 50)\n"
     ]
    }
   ],
   "source": [
    "gi=GridInfo(dirname + 'grid_info', '')\n",
    "tw = gi.tweights.reshape((gi.ntheta, 1, 1))\n",
    "print (np.shape(tw))\n",
    "print (np.shape(vals_ss))"
   ]
  },
  {
   "cell_type": "code",
   "execution_count": 11,
   "id": "64185ce6",
   "metadata": {},
   "outputs": [],
   "source": [
    "# integrate total power over spherical surface\n",
    "def my_abs(arr, sslice=False, subl0=False):\n",
    "    arr_orig = np.copy(arr)\n",
    "    if subl0:\n",
    "        if sslice:\n",
    "            arrl0 = np.mean(arr_orig, axis=0)\n",
    "            arrl0 = np.sum(arrl0*tw, axis=0)\n",
    "            theshape = np.array(np.shape(arr_orig))\n",
    "            theshape[0] = theshape[1] = 1\n",
    "            arrl0 = arrl0.reshape((theshape))\n",
    "            arr_orig -= arrl0\n",
    "        else:\n",
    "            arr_orig[0,0,...] = 0.0\n",
    "    out = np.abs(arr_orig)**2\n",
    "    if sslice:\n",
    "        out = np.mean(out, axis=0)\n",
    "        out = np.sum(out*tw, axis=0)     \n",
    "    else:\n",
    "        out = np.sum(np.sum(out, axis=0), axis=0)/(4*np.pi)\n",
    "    return np.sqrt(out)"
   ]
  },
  {
   "cell_type": "code",
   "execution_count": 12,
   "id": "96fe0d93",
   "metadata": {},
   "outputs": [],
   "source": [
    "# A var equation\n",
    "a_var = vals[..., lut[2901], :]\n",
    "a_dr = vals[..., lut[2902], :]\n",
    "a_dr2 = vals[..., lut[2903], :]\n",
    "a_hlap = vals[..., lut[2904], :]\n",
    "a_diff = vals[..., lut[2905], :]\n",
    "\n",
    "# C var equation\n",
    "c_var = vals[..., lut[2906], :]\n",
    "c_dr = vals[..., lut[2907], :]\n",
    "c_dr2 = vals[..., lut[2908], :]\n",
    "c_hlap = vals[..., lut[2909], :]\n",
    "c_diff = vals[..., lut[2910], :]"
   ]
  },
  {
   "cell_type": "code",
   "execution_count": 13,
   "id": "055fecd2",
   "metadata": {},
   "outputs": [
    {
     "data": {
      "text/plain": [
       "(128, 128, 9, 50)"
      ]
     },
     "execution_count": 13,
     "metadata": {},
     "output_type": "execute_result"
    }
   ],
   "source": [
    "# get l (l + 1)\n",
    "np.shape(a_var)"
   ]
  },
  {
   "cell_type": "code",
   "execution_count": 14,
   "id": "547fd2cb",
   "metadata": {},
   "outputs": [],
   "source": [
    "lvals = np.arange(spec.nell, dtype='float')\n",
    "L2 = (lvals*(lvals+1)).reshape((spec.nell, 1, 1, 1))"
   ]
  },
  {
   "cell_type": "code",
   "execution_count": 15,
   "id": "ddfa5166",
   "metadata": {},
   "outputs": [],
   "source": [
    "# get r vals\n",
    "rvals = spec.radius.reshape((1, 1, spec.nr, 1))"
   ]
  },
  {
   "cell_type": "code",
   "execution_count": 16,
   "id": "7f8145c4",
   "metadata": {},
   "outputs": [],
   "source": [
    "# eta\n",
    "eta = eq.constants[6]\n",
    "dlneta = 0.0"
   ]
  },
  {
   "cell_type": "code",
   "execution_count": 17,
   "id": "ced3f4c2",
   "metadata": {},
   "outputs": [
    {
     "name": "stdout",
     "output_type": "stream",
     "text": [
      "a hlap err =  [1.29684908e-09 1.29708512e-09 1.29784401e-09 1.29895162e-09\n",
      " 1.30029797e-09 1.30188851e-09 1.30332956e-09 1.30451401e-09\n",
      " 1.30493527e-09]\n",
      "a diff err =  [2.21890655e-10 2.46043024e-10 2.95293919e-10 3.61971685e-10\n",
      " 4.51425465e-10 5.94292702e-10 7.97958418e-10 1.12157026e-09\n",
      " 1.42484948e-09]\n",
      "c hlap err =  [3.10024455e-09 3.10144575e-09 3.10195118e-09 3.10098923e-09\n",
      " 3.09861972e-09 3.09512911e-09 3.09113802e-09 3.08688628e-09\n",
      " 3.08419238e-09]\n",
      "c diff err =  [6.68327482e-10 7.40446468e-10 8.85130033e-10 1.07783388e-09\n",
      " 1.33308985e-09 1.73752573e-09 2.31187887e-09 3.22524185e-09\n",
      " 4.08463481e-09]\n"
     ]
    }
   ],
   "source": [
    "# check all the quantities are self consistent\n",
    "print ('a hlap err = ', np.amax(my_abs(a_hlap + L2/rvals**2*a_var),axis=1)/np.amin(my_abs(a_hlap), axis=1))\n",
    "print ('a diff err = ', np.amax(my_abs(a_diff - eta*(a_dr2 - L2/rvals**2*a_var +\\\n",
    "                                                     dlneta*a_dr)), axis=1)/np.amin(my_abs(a_diff), axis=1))\n",
    "print ('c hlap err = ', np.amax(my_abs(c_hlap + L2/rvals**2*c_var),axis=1)/np.amin(my_abs(c_hlap),axis=1))\n",
    "print ('c diff err = ', np.amax(my_abs(c_diff - eta*(c_dr2 - L2/rvals**2*c_var)),axis=1)/np.amin(my_abs(c_diff),axis=1))"
   ]
  },
  {
   "cell_type": "code",
   "execution_count": 18,
   "id": "86d92f3b",
   "metadata": {},
   "outputs": [],
   "source": [
    "# get lhs = d var / dt\n",
    "def get_ddt(variable):\n",
    "    dvar = variable[..., 2:] - variable[..., 1:-1]\n",
    "    return dvar/dt\n",
    "\n",
    "a_dt = get_ddt(a_var)\n",
    "c_dt = get_ddt(c_var)"
   ]
  },
  {
   "cell_type": "code",
   "execution_count": 19,
   "id": "54d2a5f8",
   "metadata": {},
   "outputs": [],
   "source": [
    "# get weighted rhs\n",
    "\n",
    "def get_weighted_rhs(fimp, fexp):\n",
    "    return 0.5*(fimp[..., 2:] + fimp[..., 1:-1]) + fexp[..., 1:-1] +\\\n",
    "        0.5*(dt/dt_old)*(fexp[..., 1:-1] - fexp[..., :-2])\n",
    "\n",
    "a_rhs = get_weighted_rhs(a_diff, np.zeros_like(a_diff))\n",
    "c_rhs = get_weighted_rhs(c_diff, np.zeros_like(c_diff))"
   ]
  },
  {
   "cell_type": "code",
   "execution_count": 20,
   "id": "330e50d5",
   "metadata": {},
   "outputs": [
    {
     "name": "stdout",
     "output_type": "stream",
     "text": [
      "aeq err =  [1.44353721e-10 1.01016108e-10 7.65517335e-11 9.09781076e-11\n",
      " 8.14396202e-11 1.29222913e-10 1.42918219e-10 3.15323222e-10\n",
      " 5.17103539e-10]\n",
      "ceq err =  [2.53740686e-10 3.09505424e-10 2.69946618e-10 2.96216745e-10\n",
      " 2.35462255e-10 3.69794915e-10 4.90043943e-10 5.51486657e-10\n",
      " 5.99664119e-10]\n"
     ]
    }
   ],
   "source": [
    "# now see how much agreement between LHS and RHS\n",
    "print ('aeq err = ', np.amax(my_abs(a_dt - a_rhs,subl0=True),axis=1)/np.amin(my_abs(a_dt,subl0=True), axis=1))\n",
    "print ('ceq err = ', np.amax(my_abs(c_dt - c_rhs,subl0=True),axis=1)/np.amin(my_abs(c_dt,subl0=True), axis=1))"
   ]
  },
  {
   "cell_type": "code",
   "execution_count": 21,
   "id": "e77ec0d3",
   "metadata": {},
   "outputs": [
    {
     "name": "stdout",
     "output_type": "stream",
     "text": [
      "rad = 0.06828907833209069\n"
     ]
    }
   ],
   "source": [
    "# pick a radial location to plot \n",
    "ir0 = 4\n",
    "print ('rad =', spec.radius[ir0]/6.96e10)"
   ]
  },
  {
   "cell_type": "code",
   "execution_count": 22,
   "id": "be40511b",
   "metadata": {},
   "outputs": [
    {
     "name": "stdout",
     "output_type": "stream",
     "text": [
      "mean |dA/dt| =  27503.273884539452\n",
      "mean |A|     =  246602755594.14862\n",
      "|A|/|dA|     =  44831.52744458772\n"
     ]
    },
    {
     "data": {
      "image/png": "[encoded data removed]",
      "text/plain": [
       "<Figure size 432x288 with 1 Axes>"
      ]
     },
     "metadata": {
      "needs_background": "light"
     },
     "output_type": "display_data"
    }
   ],
   "source": [
    "plt.plot(t[2:], my_abs(a_dt[..., ir0, :], subl0=True), 'k', label='A (d/dt)')\n",
    "plt.plot(t[2:], my_abs(a_rhs[..., ir0, :], subl0=True), 'r--', label='A  (RHS)')\n",
    "plt.plot(t[2:], my_abs((a_dt-a_rhs)[..., ir0, :], subl0=True), label='difference')\n",
    "plt.yscale('log')\n",
    "plt.legend()\n",
    "print ('mean |dA/dt| = ', np.mean(my_abs(a_dt[..., ir0, :], subl0=True)))\n",
    "print ('mean |A|     = ', np.mean(my_abs(a_var[..., ir0, :], subl0=True)))\n",
    "print ('|A|/|dA|     = ', np.mean(my_abs(a_var[..., ir0, :], subl0=True))/\\\n",
    "                                  (np.mean(dt)*np.mean(my_abs(a_dt[..., ir0, :], subl0=True))))"
   ]
  },
  {
   "cell_type": "code",
   "execution_count": 23,
   "id": "0502f051",
   "metadata": {},
   "outputs": [
    {
     "name": "stdout",
     "output_type": "stream",
     "text": [
      "mean |dC/dt| =  157027732895335.9\n",
      "mean |C|     =  5.232070499017257e+21\n",
      "|C|/|dC|     =  166597.02087479676\n"
     ]
    },
    {
     "data": {
      "image/png": "[encoded data removed]",
      "text/plain": [
       "<Figure size 432x288 with 1 Axes>"
      ]
     },
     "metadata": {
      "needs_background": "light"
     },
     "output_type": "display_data"
    }
   ],
   "source": [
    "plt.plot(t[2:], my_abs(c_dt[..., ir0, :], subl0=True), 'k', label='C (d/dt)')\n",
    "plt.plot(t[2:], my_abs(c_rhs[..., ir0, :], subl0=True), 'r--', label='C  (RHS)')\n",
    "plt.plot(t[2:], my_abs((c_dt-c_rhs)[..., ir0, :], subl0=True), label='difference')\n",
    "plt.yscale('log')\n",
    "plt.legend()\n",
    "print ('mean |dC/dt| = ', np.mean(my_abs(c_dt[..., ir0, :], subl0=True)))\n",
    "print ('mean |C|     = ', np.mean(my_abs(c_var[..., ir0, :], subl0=True)))\n",
    "print ('|C|/|dC|     = ', np.mean(my_abs(c_var[..., ir0, :], subl0=True))/\\\n",
    "                                  (np.mean(dt)*np.mean(my_abs(c_dt[..., ir0, :], subl0=True))))"
   ]
  },
  {
   "cell_type": "code",
   "execution_count": 24,
   "id": "db983ef9",
   "metadata": {},
   "outputs": [],
   "source": [
    "# repeat all this but on the shell slices"
   ]
  },
  {
   "cell_type": "code",
   "execution_count": 25,
   "id": "88fede7c",
   "metadata": {},
   "outputs": [],
   "source": [
    "# A var equation\n",
    "a_var_ss = vals_ss[..., lut_ss[2901], :]\n",
    "a_diff_ss = vals_ss[..., lut_ss[2905], :]\n",
    "\n",
    "# C var equation\n",
    "c_var_ss = vals_ss[..., lut_ss[2906], :]\n",
    "c_hlap_ss = vals_ss[..., lut_ss[2909], :]\n",
    "c_diff_ss = vals_ss[..., lut_ss[2910], :]"
   ]
  },
  {
   "cell_type": "code",
   "execution_count": 26,
   "id": "3c6273da",
   "metadata": {},
   "outputs": [],
   "source": [
    "# LHS and RHS\n",
    "a_dt_ss = get_ddt(a_var_ss )\n",
    "c_dt_ss  = get_ddt(c_var_ss )\n",
    "\n",
    "a_rhs_ss  = get_weighted_rhs(a_diff_ss , np.zeros_like(a_diff_ss ))\n",
    "c_rhs_ss  = get_weighted_rhs(c_diff_ss , np.zeros_like(c_diff_ss ))"
   ]
  },
  {
   "cell_type": "code",
   "execution_count": 1,
   "id": "dedd5ef4",
   "metadata": {},
   "outputs": [
    {
     "ename": "NameError",
     "evalue": "name 'np' is not defined",
     "output_type": "error",
     "traceback": [
      "\u001b[0;31m---------------------------------------------------------------------------\u001b[0m",
      "\u001b[0;31mNameError\u001b[0m                                 Traceback (most recent call last)",
      "\u001b[0;32m<ipython-input-1-7ec1389e925d>\u001b[0m in \u001b[0;36m<module>\u001b[0;34m\u001b[0m\n\u001b[1;32m      1\u001b[0m \u001b[0;31m# now see how much agreement between LHS and RHS (SSLICE)\u001b[0m\u001b[0;34m\u001b[0m\u001b[0;34m\u001b[0m\u001b[0;34m\u001b[0m\u001b[0m\n\u001b[0;32m----> 2\u001b[0;31m print ('aeq err (slice) = ', np.amax(my_abs(a_dt_ss - a_rhs_ss,subl0=True,sslice=True),axis=1)/\\\n\u001b[0m\u001b[1;32m      3\u001b[0m        np.amin(my_abs(a_dt_ss,subl0=True,sslice=True), axis=1))\n\u001b[1;32m      4\u001b[0m print ('ceq err (slice) = ', np.amax(my_abs(c_dt_ss - c_rhs_ss,subl0=True,sslice=True),axis=1)/\\\n\u001b[1;32m      5\u001b[0m        np.amin(my_abs(c_dt_ss,subl0=True,sslice=True), axis=1))\n",
      "\u001b[0;31mNameError\u001b[0m: name 'np' is not defined"
     ]
    }
   ],
   "source": [
    "# now see how much agreement between LHS and RHS (SSLICE)\n",
    "print ('aeq err (slice) = ', np.amax(my_abs(a_dt_ss - a_rhs_ss,subl0=True,sslice=True),axis=1)/\\\n",
    "       np.amin(my_abs(a_dt_ss,subl0=True,sslice=True), axis=1))\n",
    "print ('ceq err (slice) = ', np.amax(my_abs(c_dt_ss - c_rhs_ss,subl0=True,sslice=True),axis=1)/\\\n",
    "       np.amin(my_abs(c_dt_ss,subl0=True,sslice=True), axis=1))"
   ]
  },
  {
   "cell_type": "code",
   "execution_count": 28,
   "id": "f6c5e776",
   "metadata": {},
   "outputs": [],
   "source": [
    "# r induct\n",
    "b = vals[..., lut[801], :]\n",
    "\n",
    "fimp = diff = vals[..., lut[1605], :]\n",
    "\n",
    "# sslice\n",
    "\n",
    "b_ss = vals_ss[..., lut_ss[801], :]\n",
    "\n",
    "fimp_ss = diff_ss = vals_ss[..., lut_ss[1605], :]"
   ]
  },
  {
   "cell_type": "code",
   "execution_count": 29,
   "id": "6b9142a6",
   "metadata": {},
   "outputs": [],
   "source": [
    "# get LHS and weighted rhs\n",
    "\n",
    "dbdt = get_ddt(b)\n",
    "dbdt_ss = get_ddt(b_ss)\n",
    "\n",
    "fweighted = get_weighted_rhs(fimp, np.zeros_like(fimp))\n",
    "fweighted_ss = get_weighted_rhs(fimp_ss, np.zeros_like(fimp_ss))"
   ]
  },
  {
   "cell_type": "code",
   "execution_count": 30,
   "id": "35b24959",
   "metadata": {},
   "outputs": [
    {
     "name": "stdout",
     "output_type": "stream",
     "text": [
      "br err spec  =  [0.00107137 0.00120114 0.00144299 0.00174029 0.00210836 0.00265839\n",
      " 0.0034048  0.00455333 0.00561128]\n",
      "br err slice =  [0.00122031 0.00136812 0.00164359 0.00198222 0.00240146 0.00302796\n",
      " 0.00387813 0.00518634 0.00639137]\n"
     ]
    }
   ],
   "source": [
    "# now see how much agreement between LHS and RHS\n",
    "print ('br err spec  = ', np.amax(my_abs(dbdt - fweighted,subl0=True),axis=1)/\\\n",
    "       np.amin(my_abs(dbdt,subl0=True), axis=1))\n",
    "print ('br err slice = ', np.amax(my_abs(dbdt_ss - fweighted_ss,subl0=True,sslice=True),axis=1)/\\\n",
    "       np.amin(my_abs(dbdt_ss,subl0=True, sslice=True), axis=1))"
   ]
  },
  {
   "cell_type": "code",
   "execution_count": 31,
   "id": "ca9d8533",
   "metadata": {},
   "outputs": [
    {
     "name": "stdout",
     "output_type": "stream",
     "text": [
      "br = C? err spec =  [0. 0. 0. 0. 0. 0. 0. 0. 0.]\n",
      "br = C? err slic =  [0. 0. 0. 0. 0. 0. 0. 0. 0.]\n"
     ]
    }
   ],
   "source": [
    "# get err in \"does br = -l(l+1)C/r^2\"\n",
    "print ('br = C? err spec = ', np.amax(my_abs(b + c_hlap,subl0=True),axis=1)/\\\n",
    "       np.amin(my_abs(b,subl0=True), axis=1))\n",
    "print ('br = C? err slic = ', np.amax(my_abs(b_ss + c_hlap_ss,subl0=True,sslice=True),axis=1)/\\\n",
    "       np.amin(my_abs(b_ss,subl0=True,sslice=True), axis=1))"
   ]
  },
  {
   "cell_type": "code",
   "execution_count": 32,
   "id": "e201edaf",
   "metadata": {},
   "outputs": [
    {
     "name": "stdout",
     "output_type": "stream",
     "text": [
      "diff. err spec =  [0.00107141 0.00120119 0.00144305 0.00174037 0.00210847 0.00265854\n",
      " 0.00340502 0.00455368 0.00561177]\n"
     ]
    }
   ],
   "source": [
    "# get err in \"does diffusion = what its supposed to\"\n",
    "print ('diff. err spec = ', np.amax(my_abs(diff - L2/rvals**2*c_diff,subl0=True),axis=1)/\\\n",
    "       np.amin(my_abs(diff,subl0=True), axis=1))"
   ]
  },
  {
   "cell_type": "code",
   "execution_count": 33,
   "id": "49aae98b",
   "metadata": {},
   "outputs": [
    {
     "data": {
      "text/plain": [
       "<matplotlib.legend.Legend at 0x2aaca42fddd0>"
      ]
     },
     "execution_count": 33,
     "metadata": {},
     "output_type": "execute_result"
    },
    {
     "data": {
      "image/png": "[encoded data removed]",
      "text/plain": [
       "<Figure size 432x288 with 1 Axes>"
      ]
     },
     "metadata": {
      "needs_background": "light"
     },
     "output_type": "display_data"
    }
   ],
   "source": [
    "# I think that's my error!\n",
    "\n",
    "# let's multiply by L2/r^2 (- hor lapl)\n",
    "\n",
    "plt.plot(t[2:], my_abs(((L2/rvals**2)*c_dt)[..., ir0, :], subl0=True), 'k', label='C (d/dt)')\n",
    "plt.plot(t[2:], my_abs(((L2/rvals**2)*c_rhs)[..., ir0, :], subl0=True), 'r--', label='C  (RHS)')\n",
    "plt.plot(t[2:], my_abs(((L2/rvals**2)*(c_dt-c_rhs))[..., ir0, :], subl0=True), label='difference')\n",
    "plt.yscale('log')\n",
    "plt.legend()"
   ]
  },
  {
   "cell_type": "code",
   "execution_count": 34,
   "id": "7d63320d",
   "metadata": {},
   "outputs": [],
   "source": [
    "# all good..."
   ]
  },
  {
   "cell_type": "code",
   "execution_count": 35,
   "id": "953182d8",
   "metadata": {},
   "outputs": [
    {
     "data": {
      "text/plain": [
       "Text(0.5, 1.0, 'induct totals (r) spec')"
      ]
     },
     "execution_count": 35,
     "metadata": {},
     "output_type": "execute_result"
    },
    {
     "data": {
      "image/png": "[encoded data removed]",
      "text/plain": [
       "<Figure size 432x288 with 1 Axes>"
      ]
     },
     "metadata": {
      "needs_background": "light"
     },
     "output_type": "display_data"
    }
   ],
   "source": [
    "# plot the B_r equation\n",
    "plt.plot(t[2:], my_abs(dbdt - fweighted, subl0=True)[ir0, :], 'b', label='LHS - RHS')\n",
    "plt.plot(t[2:], my_abs(dbdt, subl0=True)[ir0, :], 'k', label='dB_r /dt (numderiv)')\n",
    "plt.plot(t[2:], my_abs(fweighted, subl0=True)[ir0, :], 'r--', label='weighted RHS')\n",
    "plt.yscale('log')\n",
    "\n",
    "# label\n",
    "plt.legend()\n",
    "plt.xlabel('time (prot)')\n",
    "plt.ylabel('induction (G/s)')\n",
    "plt.title('induct totals (r) spec')"
   ]
  },
  {
   "cell_type": "code",
   "execution_count": 36,
   "id": "523f93eb",
   "metadata": {},
   "outputs": [
    {
     "data": {
      "text/plain": [
       "Text(0.5, 1.0, 'induct totals (r) spec')"
      ]
     },
     "execution_count": 36,
     "metadata": {},
     "output_type": "execute_result"
    },
    {
     "data": {
      "image/png": "[encoded data removed]",
      "text/plain": [
       "<Figure size 432x288 with 1 Axes>"
      ]
     },
     "metadata": {
      "needs_background": "light"
     },
     "output_type": "display_data"
    }
   ],
   "source": [
    "# plot the B_r equation, now with l(l+1)/r^2 RHS C eq\n",
    "plt.plot(t[2:], my_abs(dbdt - L2/rvals**2*c_rhs, subl0=True)[ir0, :], 'b', label='LHS - RHS(C)')\n",
    "plt.plot(t[2:], my_abs(dbdt, subl0=True)[ir0, :], 'k', label='dB_r /dt (numderiv)')\n",
    "plt.plot(t[2:], my_abs(L2/rvals**2*c_rhs, subl0=True)[ir0, :], 'r--', label='weighted RHS(C)')\n",
    "plt.yscale('log')\n",
    "\n",
    "# label\n",
    "plt.legend()\n",
    "plt.xlabel('time (prot)')\n",
    "plt.ylabel('induction (G/s)')\n",
    "plt.title('induct totals (r) spec')"
   ]
  },
  {
   "cell_type": "code",
   "execution_count": 37,
   "id": "dadbcc6e",
   "metadata": {},
   "outputs": [
    {
     "data": {
      "text/plain": [
       "Text(0.5, 1.0, 'induct totals (r) spec [l = 1, m = 0]')"
      ]
     },
     "execution_count": 37,
     "metadata": {},
     "output_type": "execute_result"
    },
    {
     "data": {
      "image/png": "[encoded data removed]",
      "text/plain": [
       "<Figure size 432x288 with 1 Axes>"
      ]
     },
     "metadata": {
      "needs_background": "light"
     },
     "output_type": "display_data"
    }
   ],
   "source": [
    "# pick particular l, m value (dipole has most power)\n",
    "# we note that power (in B_r) is at m = 0, +/-7, +/-14 (nowhere else)\n",
    "# at each m, l is only all even or all odd, alternating so\n",
    "#  m = 0,    l = odd\n",
    "# |m| = 7,   l = even\n",
    "l0 = 1\n",
    "m0 = 0\n",
    "\n",
    "# plot the B_r equation\n",
    "plt.plot(t[2:], np.abs((dbdt - fweighted)[l0, m0, ir0, :]), 'b', label='LHS - RHS')\n",
    "plt.plot(t[2:], np.abs(dbdt[l0, m0, ir0, :]), 'k', label='LHS')\n",
    "plt.plot(t[2:], np.abs(fweighted[l0, m0, ir0, :]), 'r--', label='weighted RHS')\n",
    "plt.yscale('log')\n",
    "\n",
    "# label\n",
    "plt.legend()\n",
    "plt.xlabel('time (prot)')\n",
    "plt.ylabel('induction (G/s)')\n",
    "plt.title('induct totals (r) spec [l = %i, m = %i]' %(l0, m0))"
   ]
  },
  {
   "cell_type": "code",
   "execution_count": 38,
   "id": "31be687a",
   "metadata": {},
   "outputs": [
    {
     "data": {
      "text/plain": [
       "Text(0.5, 1.0, 'induct totals (r) spec [l = 9, m = 0]')"
      ]
     },
     "execution_count": 38,
     "metadata": {},
     "output_type": "execute_result"
    },
    {
     "data": {
      "image/png": "[encoded data removed]",
      "text/plain": [
       "<Figure size 432x288 with 1 Axes>"
      ]
     },
     "metadata": {
      "needs_background": "light"
     },
     "output_type": "display_data"
    }
   ],
   "source": [
    "# pick particular l, m value --- higher l\n",
    "l0 = 9\n",
    "m0 = 0\n",
    "\n",
    "# plot the B_r equation\n",
    "plt.plot(t[2:], np.abs((dbdt - fweighted)[l0, m0, ir0, :]), 'b', label='LHS - RHS')\n",
    "plt.plot(t[2:], np.abs(dbdt[l0, m0, ir0, :]), 'k', label='LHS')\n",
    "plt.plot(t[2:], np.abs(fweighted[l0, m0, ir0, :]), 'r--', label='weighted RHS')\n",
    "plt.yscale('log')\n",
    "\n",
    "# label\n",
    "plt.legend()\n",
    "plt.xlabel('time (prot)')\n",
    "plt.ylabel('induction (G/s)')\n",
    "plt.title('induct totals (r) spec [l = %i, m = %i]' %(l0, m0))"
   ]
  },
  {
   "cell_type": "code",
   "execution_count": 39,
   "id": "043d6a06",
   "metadata": {},
   "outputs": [
    {
     "data": {
      "text/plain": [
       "Text(0.5, 1.0, 'induct totals (r) spec [l = 8, m = 7]')"
      ]
     },
     "execution_count": 39,
     "metadata": {},
     "output_type": "execute_result"
    },
    {
     "data": {
      "image/png": "[encoded data removed]",
      "text/plain": [
       "<Figure size 432x288 with 1 Axes>"
      ]
     },
     "metadata": {
      "needs_background": "light"
     },
     "output_type": "display_data"
    }
   ],
   "source": [
    "# pick particular l, m value -- higher m\n",
    "l0 = 8\n",
    "m0 = 7\n",
    "\n",
    "# plot the B_r equation\n",
    "plt.plot(t[2:], np.abs((dbdt - fweighted)[l0, m0, ir0, :]), 'b', label='LHS - RHS')\n",
    "plt.plot(t[2:], np.abs(dbdt[l0, m0, ir0, :]), 'k', label='LHS')\n",
    "plt.plot(t[2:], np.abs(fweighted[l0, m0, ir0, :]), 'r--', label='weighted RHS')\n",
    "plt.yscale('log')\n",
    "\n",
    "# label\n",
    "plt.legend()\n",
    "plt.xlabel('time (prot)')\n",
    "plt.ylabel('induction (G/s)')\n",
    "plt.title('induct totals (r) spec [l = %i, m = %i]' %(l0, m0))"
   ]
  },
  {
   "cell_type": "code",
   "execution_count": 40,
   "id": "56b8496d",
   "metadata": {},
   "outputs": [
    {
     "data": {
      "text/plain": [
       "Text(0.5, 1.0, 'induct totals (r) spec [l = 9, m = 0]')"
      ]
     },
     "execution_count": 40,
     "metadata": {},
     "output_type": "execute_result"
    },
    {
     "data": {
      "image/png": "[encoded data removed]",
      "text/plain": [
       "<Figure size 432x288 with 1 Axes>"
      ]
     },
     "metadata": {
      "needs_background": "light"
     },
     "output_type": "display_data"
    }
   ],
   "source": [
    "# pick particular l, m value \n",
    "l0 = 9\n",
    "m0 = 0\n",
    "\n",
    "# plot the B_r equation\n",
    "plt.plot(t[2:], np.abs((dbdt - fweighted)[l0, m0, ir0, :]), 'b', label='LHS - RHS')\n",
    "plt.plot(t[2:], np.abs((dbdt - L2/rvals**2*c_rhs)[l0, m0, ir0, :]), 'r', label='LHS - RHS(C)')\n",
    "\n",
    "plt.plot(t[2:], np.abs(dbdt[l0, m0, ir0, :]), 'k', label='LHS')\n",
    "plt.plot(t[2:], np.abs(fweighted[l0, m0, ir0, :]), 'r--', label='weighted RHS')\n",
    "plt.yscale('log')\n",
    "\n",
    "# label\n",
    "plt.legend()\n",
    "plt.xlabel('time (prot)')\n",
    "plt.ylabel('induction (G/s)')\n",
    "plt.title('induct totals (r) spec [l = %i, m = %i]' %(l0, m0))"
   ]
  },
  {
   "cell_type": "code",
   "execution_count": 41,
   "id": "285e370c",
   "metadata": {},
   "outputs": [],
   "source": [
    "# now check the b_theta and b_phi equations\n",
    "br = vals[..., lut[801], :]\n",
    "bt = vals[..., lut[802], :]\n",
    "bp = vals[..., lut[803], :]\n",
    "\n",
    "diffr = vals[..., lut[1605], :]\n",
    "difft = vals[..., lut[1610], :]\n",
    "diffp = vals[..., lut[1615], :]\n",
    "\n",
    "diffr_sf = vals[..., lut[2911], :]\n",
    "difft_sf = vals[..., lut[2912], :]\n",
    "diffp_sf = vals[..., lut[2913], :]"
   ]
  },
  {
   "cell_type": "code",
   "execution_count": 42,
   "id": "060c27e0",
   "metadata": {},
   "outputs": [],
   "source": [
    "dbdt_r = get_ddt(br)\n",
    "dbdt_t = get_ddt(bt)\n",
    "dbdt_p = get_ddt(bp)\n",
    "\n",
    "fweightedr = get_weighted_rhs(diffr, np.zeros_like(diffr))\n",
    "fweightedr_sf = get_weighted_rhs(diffr_sf, np.zeros_like(diffr_sf))\n",
    "\n",
    "fweightedt = get_weighted_rhs(difft, np.zeros_like(difft))\n",
    "fweightedt_sf = get_weighted_rhs(difft_sf, np.zeros_like(difft_sf))\n",
    "\n",
    "fweightedp = get_weighted_rhs(diffp, np.zeros_like(diffp))\n",
    "fweightedp_sf = get_weighted_rhs(diffp_sf, np.zeros_like(diffp_sf))"
   ]
  },
  {
   "cell_type": "code",
   "execution_count": 43,
   "id": "82ccec80",
   "metadata": {},
   "outputs": [
    {
     "name": "stdout",
     "output_type": "stream",
     "text": [
      "br err spec  =  [0.00107137 0.00120114 0.00144299 0.00174029 0.00210836 0.00265839\n",
      " 0.0034048  0.00455333 0.00561128]\n",
      "bt err spec  =  [1.00469642e-07 1.19556985e-07 1.41535262e-07 2.94471385e-08\n",
      " 2.88268958e-08 1.56905493e-08 1.44009714e-08 1.29056392e-08\n",
      " 2.40284347e-08]\n",
      "bp err spec  =  [1.32384217e-10 1.08305854e-10 7.99955894e-11 9.73517958e-11\n",
      " 1.03349237e-10 1.06167139e-10 1.70985599e-10 3.42075897e-10\n",
      " 4.97615466e-10]\n"
     ]
    }
   ],
   "source": [
    "# now see how much agreement between LHS and RHS\n",
    "print ('br err spec  = ', np.amax(my_abs(dbdt_r - fweightedr,subl0=True),axis=1)/\\\n",
    "       np.amin(my_abs(dbdt_r,subl0=True), axis=1))\n",
    "print ('bt err spec  = ', np.amax(my_abs(dbdt_t - fweightedt,subl0=True),axis=1)/\\\n",
    "       np.amin(my_abs(dbdt_t,subl0=True), axis=1))\n",
    "print ('bp err spec  = ', np.amax(my_abs(dbdt_p - fweightedp,subl0=True),axis=1)/\\\n",
    "       np.amin(my_abs(dbdt_p,subl0=True), axis=1))"
   ]
  },
  {
   "cell_type": "code",
   "execution_count": 44,
   "id": "410bacbd",
   "metadata": {},
   "outputs": [
    {
     "name": "stdout",
     "output_type": "stream",
     "text": [
      "br err spec sf =  [2.65402607e-10 2.50692485e-10 2.95274204e-10 2.52702629e-10\n",
      " 2.33941133e-10 4.02191197e-10 3.86452724e-10 6.02704459e-10\n",
      " 6.22259913e-10]\n",
      "bt err spec sf =  [1.00640777e-07 1.19879590e-07 1.41420392e-07 2.96234998e-08\n",
      " 2.88125072e-08 1.56297295e-08 1.43727533e-08 1.28831360e-08\n",
      " 2.39964875e-08]\n",
      "bp err spec sf =  [1.32794251e-10 1.08264466e-10 7.96812785e-11 9.69811450e-11\n",
      " 1.03069455e-10 1.06138035e-10 1.70628695e-10 3.41847339e-10\n",
      " 4.97513354e-10]\n"
     ]
    }
   ],
   "source": [
    "# huh...that's really good agreement in physical space based outputs actually\n",
    "# for the horizontal bits (but NOT radial)\n",
    "\n",
    "# check how streamfunctions do\n",
    "print ('br err spec sf = ', np.amax(my_abs(dbdt_r - fweightedr_sf,subl0=True),axis=1)/\\\n",
    "       np.amin(my_abs(dbdt_r,subl0=True), axis=1))\n",
    "print ('bt err spec sf = ', np.amax(my_abs(dbdt_t - fweightedt_sf,subl0=True),axis=1)/\\\n",
    "       np.amin(my_abs(dbdt_t,subl0=True), axis=1))\n",
    "print ('bp err spec sf = ', np.amax(my_abs(dbdt_p - fweightedp_sf,subl0=True),axis=1)/\\\n",
    "       np.amin(my_abs(dbdt_p,subl0=True), axis=1))"
   ]
  },
  {
   "cell_type": "code",
   "execution_count": 45,
   "id": "26166a1f",
   "metadata": {},
   "outputs": [],
   "source": [
    "# hmmm....OK now I'm confused again..."
   ]
  },
  {
   "cell_type": "code",
   "execution_count": 46,
   "id": "3e35017b",
   "metadata": {},
   "outputs": [],
   "source": [
    "# Maybe the error is in l=0 for B_theta and B_phi? They can have an l=0 component (but not B_r)"
   ]
  },
  {
   "cell_type": "code",
   "execution_count": 50,
   "id": "2805956a",
   "metadata": {},
   "outputs": [
    {
     "name": "stdout",
     "output_type": "stream",
     "text": [
      "br err spec (w/o l0) =  [0.00107137 0.00120114 0.00144299 0.00174029 0.00210836 0.00265839\n",
      " 0.0034048  0.00455333 0.00561128]\n",
      "br err spec (w/  l0) =  [0.00107137 0.00120114 0.00144299 0.00174029 0.00210836 0.00265839\n",
      " 0.0034048  0.00455333 0.00561128]\n"
     ]
    }
   ],
   "source": [
    "# Check at least that the errors with/without l=0 for the B_r equation are the same\n",
    "print ('br err spec (w/o l0) = ', np.amax(my_abs(dbdt_r - fweightedr,subl0=True),axis=1)/\\\n",
    "       np.amin(my_abs(dbdt_r,subl0=True), axis=1))\n",
    "print ('br err spec (w/  l0) = ', np.amax(my_abs(dbdt_r - fweightedr,subl0=False),axis=1)/\\\n",
    "       np.amin(my_abs(dbdt_r,subl0=True), axis=1))"
   ]
  },
  {
   "cell_type": "code",
   "execution_count": 51,
   "id": "a621a319",
   "metadata": {},
   "outputs": [
    {
     "name": "stdout",
     "output_type": "stream",
     "text": [
      "bt err spec (w/o l0) =  [1.00469642e-07 1.19556985e-07 1.41535262e-07 2.94471385e-08\n",
      " 2.88268958e-08 1.56905493e-08 1.44009714e-08 1.29056392e-08\n",
      " 2.40284347e-08]\n",
      "bt err spec (w/  l0) =  [6.30102675e-08 7.26560919e-08 1.00334584e-07 2.06852454e-08\n",
      " 2.06910330e-08 1.21346926e-08 1.17354340e-08 1.13606832e-08\n",
      " 2.14521813e-08]\n"
     ]
    }
   ],
   "source": [
    "# that's good at least...see what happens for b_theta, b_phi\n",
    "print ('bt err spec (w/o l0) = ', np.amax(my_abs(dbdt_t - fweightedt,subl0=True),axis=1)/\\\n",
    "       np.amin(my_abs(dbdt_t,subl0=True), axis=1))\n",
    "print ('bt err spec (w/  l0) = ', np.amax(my_abs(dbdt_t - fweightedt,subl0=False),axis=1)/\\\n",
    "       np.amin(my_abs(dbdt_t,subl0=False), axis=1))"
   ]
  },
  {
   "cell_type": "code",
   "execution_count": 54,
   "id": "0d60950f",
   "metadata": {},
   "outputs": [
    {
     "name": "stdout",
     "output_type": "stream",
     "text": [
      "bp err spec (w/o l0) =  [1.32384217e-10 1.08305854e-10 7.99955894e-11 9.73517958e-11\n",
      " 1.03349237e-10 1.06167139e-10 1.70985599e-10 3.42075897e-10\n",
      " 4.97615466e-10]\n",
      "bp err spec (w/  l0) =  [1.32384217e-10 1.08306005e-10 7.99958050e-11 9.73518738e-11\n",
      " 1.03349244e-10 1.06167142e-10 1.70985601e-10 3.42075898e-10\n",
      " 4.97615508e-10]\n"
     ]
    }
   ],
   "source": [
    "print ('bp err spec (w/o l0) = ', np.amax(my_abs(dbdt_p - fweightedp,subl0=True),axis=1)/\\\n",
    "       np.amin(my_abs(dbdt_p,subl0=True), axis=1))\n",
    "print ('bp err spec (w/  l0) = ', np.amax(my_abs(dbdt_p - fweightedp,subl0=False),axis=1)/\\\n",
    "       np.amin(my_abs(dbdt_p,subl0=False), axis=1))"
   ]
  },
  {
   "cell_type": "code",
   "execution_count": 53,
   "id": "ac3ffe00",
   "metadata": {},
   "outputs": [
    {
     "name": "stdout",
     "output_type": "stream",
     "text": [
      "bt err spec sf (w/ l0) =  [6.31038915e-08 7.28377997e-08 1.00262211e-07 2.08067448e-08\n",
      " 2.06798219e-08 1.20903493e-08 1.17124742e-08 1.13457950e-08\n",
      " 2.14227639e-08]\n",
      "bp err spec sf (w/ l0) =  [1.32794251e-10 1.08264617e-10 7.96814950e-11 9.69812233e-11\n",
      " 1.03069462e-10 1.06138037e-10 1.70628697e-10 3.41847340e-10\n",
      " 4.97513396e-10]\n"
     ]
    }
   ],
   "source": [
    "# nope, it just seems like the theta and phi components are just \"good\"\n",
    "# see if any stream function improvement keeping l=0 \n",
    "print ('bt err spec sf (w/ l0) = ', np.amax(my_abs(dbdt_t - fweightedt_sf,subl0=False),axis=1)/\\\n",
    "       np.amin(my_abs(dbdt_t,subl0=False), axis=1))\n",
    "print ('bp err spec sf (w/ l0) = ', np.amax(my_abs(dbdt_p - fweightedp_sf,subl0=False),axis=1)/\\\n",
    "       np.amin(my_abs(dbdt_p,subl0=False), axis=1))"
   ]
  },
  {
   "cell_type": "code",
   "execution_count": 59,
   "id": "1ece3b9a",
   "metadata": {},
   "outputs": [
    {
     "name": "stdout",
     "output_type": "stream",
     "text": [
      "a_diff =  [3.35470788e-08 8.07254649e-08 1.44436063e-07 1.82275391e-07\n",
      " 1.88709510e-07 1.63312031e-07 1.17135586e-07 6.04703649e-08\n",
      " 2.43888857e-08]\n",
      "a_hlap =  [5.73989935e-09 1.53127478e-08 3.28630331e-08 5.07936841e-08\n",
      " 6.55144401e-08 7.45495325e-08 7.17158311e-08 5.19900838e-08\n",
      " 2.66300620e-08]\n"
     ]
    }
   ],
   "source": [
    "# Dunno what's going on...maybe A has very little horizontal Laplacian?\n",
    "print ('a_diff = ', np.mean(my_abs(a_diff/eta,subl0=True),axis=1))\n",
    "print ('a_hlap = ', np.mean(my_abs(a_hlap,subl0=True),axis=1))"
   ]
  },
  {
   "cell_type": "code",
   "execution_count": 60,
   "id": "e122c0e7",
   "metadata": {},
   "outputs": [],
   "source": [
    "# no don't think that's it..."
   ]
  },
  {
   "cell_type": "code",
   "execution_count": 61,
   "id": "6240ac5f",
   "metadata": {},
   "outputs": [],
   "source": [
    "# could just be something perverse with the benchmark, but I don't think that's it\n",
    "# anyway, should check how this plays out for case M"
   ]
  },
  {
   "cell_type": "code",
   "execution_count": null,
   "id": "ea03c7fc",
   "metadata": {},
   "outputs": [],
   "source": []
  }
 ],
 "metadata": {
  "kernelspec": {
   "display_name": "Python 3",
   "language": "python",
   "name": "python3"
  },
  "language_info": {
   "codemirror_mode": {
    "name": "ipython",
    "version": 3
   },
   "file_extension": ".py",
   "mimetype": "text/x-python",
   "name": "python",
   "nbconvert_exporter": "python",
   "pygments_lexer": "ipython3",
   "version": "3.7.10"
  }
 },
 "nbformat": 4,
 "nbformat_minor": 5
}
