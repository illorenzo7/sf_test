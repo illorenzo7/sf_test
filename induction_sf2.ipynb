{
 "cells": [
  {
   "cell_type": "code",
   "execution_count": 1,
   "id": "75471414",
   "metadata": {
    "scrolled": false
   },
   "outputs": [
    {
     "data": {
      "text/plain": [
       "['/pleiades/home1/lmatilsk/sf_test',\n",
       " '/home1/lmatilsk/miniconda3/envs/custom/lib/python37.zip',\n",
       " '/home1/lmatilsk/miniconda3/envs/custom/lib/python3.7',\n",
       " '/home1/lmatilsk/miniconda3/envs/custom/lib/python3.7/lib-dynload',\n",
       " '',\n",
       " '/home1/lmatilsk/miniconda3/envs/custom/lib/python3.7/site-packages',\n",
       " '/home1/lmatilsk/miniconda3/envs/custom/lib/python3.7/site-packages/IPython/extensions',\n",
       " '/lou/la2/lmatilsk/.ipython',\n",
       " '/home1/lmatilsk/rayleigh/code/post_processing',\n",
       " '/home1/lmatilsk/rayleigh/utils/compute',\n",
       " '/home1/lmatilsk/rayleigh/code/post_processing']"
      ]
     },
     "execution_count": 1,
     "metadata": {},
     "output_type": "execute_result"
    }
   ],
   "source": [
    "%matplotlib inline\n",
    "import sys, os\n",
    "import numpy as np\n",
    "import matplotlib.pyplot as plt\n",
    "sys.path.append(os.environ['rapp'])\n",
    "sys.path.append(os.environ['raco'])\n",
    "from rayleigh_diagnostics import Shell_Spectra, Shell_Slices, GridInfo\n",
    "from reference_tools import equation_coefficients\n",
    "import common\n",
    "sys.path"
   ]
  },
  {
   "cell_type": "code",
   "execution_count": 2,
   "id": "050f6415",
   "metadata": {},
   "outputs": [
    {
     "name": "stdout",
     "output_type": "stream",
     "text": [
      "/pleiades/nobackupp17/lmatilsk/benchmarks/j2011_mhd_linear/00_test_equations_sf2/\n"
     ]
    }
   ],
   "source": [
    "#dirname = '/pleiades/nobackupp17/lmatilsk/case_M-Prm4.0_linear/00_test_equations_sf2/'\n",
    "#dirtag = 'caseM_orig'\n",
    "\n",
    "#dirname = '/pleiades/nobackupp17/lmatilsk/case_M-Prm4.0_linear/00_test_equations_sf2_dealias2/'\n",
    "#dirtag = 'caseM_dealias2'\n",
    "\n",
    "#dirname = '/pleiades/nobackupp17/lmatilsk/case_M-Prm4.0_linear_consteta/00_test_equations_sf2/'\n",
    "#dirtag = 'caseM_consteta'\n",
    "\n",
    "dirname = '/pleiades/nobackupp17/lmatilsk/benchmarks/j2011_mhd_linear/00_test_equations_sf2/'\n",
    "dirtag = 'j2011_mhd'\n",
    "\n",
    "print (dirname)"
   ]
  },
  {
   "cell_type": "code",
   "execution_count": 3,
   "id": "6a8f91a8",
   "metadata": {},
   "outputs": [
    {
     "name": "stdout",
     "output_type": "stream",
     "text": [
      "/pleiades/nobackupp17/lmatilsk/benchmarks/j2011_mhd_linear/00_test_equations_sf2/Shell_Spectra/15200050\n"
     ]
    }
   ],
   "source": [
    "radatadir = dirname + 'Shell_Spectra/'\n",
    "the_file = radatadir + os.listdir(radatadir)[0]\n",
    "spec = Shell_Spectra(the_file,'')\n",
    "print(the_file)"
   ]
  },
  {
   "cell_type": "code",
   "execution_count": 4,
   "id": "4d8ace04",
   "metadata": {},
   "outputs": [
    {
     "name": "stdout",
     "output_type": "stream",
     "text": [
      "irvals =  [ 18  29  42  53  63  74  85  98 109]\n",
      "r/rsun =  [0.09730686 0.09241647 0.08438459 0.07625216 0.06831853 0.05958225\n",
      " 0.05144982 0.04341794 0.03852755]\n"
     ]
    }
   ],
   "source": [
    "# break up data\n",
    "vals = spec.vals\n",
    "\n",
    "times =  spec.time\n",
    "dt = times[2:] - times[1:-1]\n",
    "dt = dt.reshape((1, 1, 1, len(dt)))\n",
    "dt_old = times[1:-1] - times[:-2]\n",
    "dt_old = dt_old.reshape((1, 1, 1, len(dt_old)))\n",
    "\n",
    "lut = spec.lut\n",
    "irvals = spec.inds\n",
    "\n",
    "print ('irvals = ', irvals)\n",
    "print ('r/rsun = ', spec.radius/common.rsun)"
   ]
  },
  {
   "cell_type": "code",
   "execution_count": 5,
   "id": "c84673f4",
   "metadata": {},
   "outputs": [
    {
     "name": "stdout",
     "output_type": "stream",
     "text": [
      "(128, 128, 9, 19, 50)\n"
     ]
    }
   ],
   "source": [
    "print (np.shape(vals))"
   ]
  },
  {
   "cell_type": "code",
   "execution_count": 6,
   "id": "61630755",
   "metadata": {},
   "outputs": [],
   "source": [
    "# get rotation period (for time axis)\n",
    "eq = equation_coefficients()\n",
    "eq.read(dirname + 'equation_coefficients')\n",
    "Om0 = eq.constants[0]/2\n",
    "prot = 2*np.pi/Om0\n",
    "t = times/prot"
   ]
  },
  {
   "cell_type": "code",
   "execution_count": 7,
   "id": "9d8aeced",
   "metadata": {},
   "outputs": [
    {
     "name": "stdout",
     "output_type": "stream",
     "text": [
      "200.0\n",
      "0.0\n",
      "50\n"
     ]
    }
   ],
   "source": [
    "# check if timestep changes (usually doesn't over <1000 iters)\n",
    "print(np.mean(np.diff(times)))\n",
    "print(np.std(np.diff(times)))\n",
    "print (len(times))"
   ]
  },
  {
   "cell_type": "code",
   "execution_count": 8,
   "id": "8e7e00a4",
   "metadata": {},
   "outputs": [],
   "source": [
    "# get theta weights\n",
    "gi = GridInfo(dirname + 'grid_info', '')\n",
    "tw = gi.tweights.reshape((gi.ntheta, 1, 1))"
   ]
  },
  {
   "cell_type": "code",
   "execution_count": 9,
   "id": "64185ce6",
   "metadata": {},
   "outputs": [],
   "source": [
    "# function to integrate power (|quantity|^2) over spherical surface\n",
    "# normalized to return the SQUARE ROOT (rms) of the power AVERAGED over the sphere\n",
    "# should return same quantity for Shell_Spectra or Shell_Slices\n",
    "def my_abs(arr, sslice=False, subl0=False):\n",
    "    arr_orig = np.copy(arr)\n",
    "    if subl0:\n",
    "        if sslice:\n",
    "            arrl0 = np.mean(arr_orig, axis=0)\n",
    "            arrl0 = np.sum(arrl0*tw, axis=0)\n",
    "            theshape = np.array(np.shape(arr_orig))\n",
    "            theshape[0] = theshape[1] = 1\n",
    "            arrl0 = arrl0.reshape((theshape))\n",
    "            arr_orig -= arrl0\n",
    "        else:\n",
    "            arr_orig[0,0,...] = 0.0\n",
    "    out = np.abs(arr_orig)**2\n",
    "    if sslice:\n",
    "        out = np.mean(out, axis=0)\n",
    "        out = np.sum(out*tw, axis=0)     \n",
    "    else:\n",
    "        out = np.sum(np.sum(out, axis=0), axis=0)/(4*np.pi)\n",
    "    return np.sqrt(out)\n",
    "# on a complete slice or spectra, will return positive-definite array of shape (n_r, n_iter)"
   ]
  },
  {
   "cell_type": "code",
   "execution_count": 10,
   "id": "96fe0d93",
   "metadata": {},
   "outputs": [],
   "source": [
    "# A var equation\n",
    "a_var = vals[..., lut[2901], :]\n",
    "a_dr = vals[..., lut[2902], :]\n",
    "a_dr2 = vals[..., lut[2903], :]\n",
    "a_hlap = vals[..., lut[2904], :]\n",
    "a_diff = vals[..., lut[2905], :]\n",
    "\n",
    "# C var equation\n",
    "c_var = vals[..., lut[2906], :]\n",
    "c_dr = vals[..., lut[2907], :]\n",
    "c_dr2 = vals[..., lut[2908], :]\n",
    "c_hlap = vals[..., lut[2909], :]\n",
    "c_diff = vals[..., lut[2910], :]"
   ]
  },
  {
   "cell_type": "code",
   "execution_count": 11,
   "id": "c437c938",
   "metadata": {},
   "outputs": [
    {
     "name": "stdout",
     "output_type": "stream",
     "text": [
      "(9, 50)\n"
     ]
    }
   ],
   "source": [
    "# test shape of my_abs -- should equal (n_r, n_iter)\n",
    "print(np.shape(my_abs(a_var)))"
   ]
  },
  {
   "cell_type": "code",
   "execution_count": 12,
   "id": "055fecd2",
   "metadata": {},
   "outputs": [
    {
     "data": {
      "text/plain": [
       "(128, 128, 9, 50)"
      ]
     },
     "execution_count": 12,
     "metadata": {},
     "output_type": "execute_result"
    }
   ],
   "source": [
    "# get L^2 = l (l + 1)\n",
    "np.shape(a_var)"
   ]
  },
  {
   "cell_type": "code",
   "execution_count": 13,
   "id": "547fd2cb",
   "metadata": {},
   "outputs": [],
   "source": [
    "lvals = np.arange(spec.nell, dtype='float')\n",
    "L2 = (lvals*(lvals+1)).reshape((spec.nell, 1, 1, 1))"
   ]
  },
  {
   "cell_type": "code",
   "execution_count": 14,
   "id": "ddfa5166",
   "metadata": {},
   "outputs": [],
   "source": [
    "# get r vals\n",
    "rvals = spec.radius.reshape((1, 1, spec.nr, 1))"
   ]
  },
  {
   "cell_type": "code",
   "execution_count": 15,
   "id": "7f8145c4",
   "metadata": {},
   "outputs": [],
   "source": [
    "# eta\n",
    "eta_full = eq.constants[6]*eq.functions[6]\n",
    "dlneta_full = eq.functions[12]\n",
    "eta = eta_full[spec.inds].reshape((1, 1, spec.nr, 1))\n",
    "dlneta = dlneta_full[spec.inds].reshape((1, 1, spec.nr, 1))"
   ]
  },
  {
   "cell_type": "code",
   "execution_count": 16,
   "id": "68234d18",
   "metadata": {},
   "outputs": [
    {
     "data": {
      "image/png": "[encoded data removed]",
      "text/plain": [
       "<Figure size 360x288 with 1 Axes>"
      ]
     },
     "metadata": {
      "needs_background": "light"
     },
     "output_type": "display_data"
    }
   ],
   "source": [
    "plt.figure(figsize=(5, 4))\n",
    "plt.plot(eq.radius/common.rsun,eta_full)\n",
    "plt.xlabel('r/rsun')\n",
    "plt.ylabel('cm^2/s')\n",
    "plt.title(dirtag + ' ETA')\n",
    "plt.ylim(0, 1.5e12)\n",
    "plt.tight_layout()\n",
    "plt.savefig(dirtag + '_eta.pdf')"
   ]
  },
  {
   "cell_type": "code",
   "execution_count": 17,
   "id": "0671b01d",
   "metadata": {},
   "outputs": [
    {
     "data": {
      "image/png": "[encoded data removed]",
      "text/plain": [
       "<Figure size 360x288 with 1 Axes>"
      ]
     },
     "metadata": {
      "needs_background": "light"
     },
     "output_type": "display_data"
    }
   ],
   "source": [
    "plt.figure(figsize=(5, 4))\n",
    "plt.plot(eq.radius,dlneta_full)\n",
    "plt.xlabel('r/rsun')\n",
    "plt.ylabel('dlneta (1/cm)')\n",
    "plt.title(dirtag + ' DLNETA')\n",
    "plt.ylim(0, 2.5e-10)\n",
    "plt.tight_layout()\n",
    "plt.savefig(dirtag + '_dlneta.pdf')"
   ]
  },
  {
   "cell_type": "code",
   "execution_count": 18,
   "id": "e59b9214",
   "metadata": {},
   "outputs": [],
   "source": [
    "# make a definition of \"error\" (relative difference between two quantities in terms of \"my_abs\" above)\n",
    "# for this, will average over time axis (axis = 1)\n",
    "# returns \"errors\" at each radius sampled (array of shape (nr,))\n",
    "def get_err(quant1, quant2, sslice=False, subl0=False):\n",
    "    numer = np.mean(my_abs(quant1 - quant2, sslice=sslice, subl0=subl0),axis=1) # difference\n",
    "    denom = np.mean(my_abs(quant1 + quant2, sslice=sslice, subl0=subl0),axis=1)/2 # average\n",
    "    return numer/denom"
   ]
  },
  {
   "cell_type": "code",
   "execution_count": 19,
   "id": "ced3f4c2",
   "metadata": {},
   "outputs": [
    {
     "name": "stdout",
     "output_type": "stream",
     "text": [
      "a hlap err =  [1.29544331e-09 1.29567683e-09 1.29642620e-09 1.29753492e-09\n",
      " 1.29886676e-09 1.30045690e-09 1.30189790e-09 1.30308114e-09\n",
      " 1.30352822e-09]\n",
      "a diff err =  [2.21650126e-10 2.45775883e-10 2.94971329e-10 3.61576944e-10\n",
      " 4.50928673e-10 5.93639386e-10 7.97082195e-10 1.12033883e-09\n",
      " 1.42331380e-09]\n",
      "c hlap err =  [3.09924945e-09 3.10053455e-09 3.10103808e-09 3.10001030e-09\n",
      " 3.09771516e-09 3.09417712e-09 3.09020706e-09 3.08594551e-09\n",
      " 3.08326993e-09]\n",
      "c diff err =  [6.68117224e-10 7.40233243e-10 8.84873032e-10 1.07749492e-09\n",
      " 1.33269792e-09 1.73698102e-09 2.31116123e-09 3.22422087e-09\n",
      " 4.08336110e-09]\n"
     ]
    }
   ],
   "source": [
    "# check all the quantities are self consistent\n",
    "print ('a hlap err = ', get_err(a_hlap, - L2/rvals**2*a_var))\n",
    "print ('a diff err = ', get_err(a_diff, eta*(a_dr2 - L2/rvals**2*a_var + dlneta*a_dr)))\n",
    "print ('c hlap err = ', get_err(c_hlap, -L2/rvals**2*c_var))\n",
    "print ('c diff err = ', get_err(c_diff, eta*(c_dr2 - L2/rvals**2*c_var)))"
   ]
  },
  {
   "cell_type": "code",
   "execution_count": 20,
   "id": "86d92f3b",
   "metadata": {},
   "outputs": [],
   "source": [
    "# get lhs = d var / dt\n",
    "def get_ddt(variable):\n",
    "    dvar = variable[..., 2:] - variable[..., 1:-1]\n",
    "    return dvar/dt\n",
    "\n",
    "a_dt = get_ddt(a_var)\n",
    "c_dt = get_ddt(c_var)"
   ]
  },
  {
   "cell_type": "code",
   "execution_count": 21,
   "id": "54d2a5f8",
   "metadata": {},
   "outputs": [],
   "source": [
    "# get weighted rhs (for consistency include fexp in the function,\n",
    "# even though it is always zero for these tests\n",
    "\n",
    "def get_weighted_rhs(fimp, fexp):\n",
    "    return 0.5*(fimp[..., 2:] + fimp[..., 1:-1]) + fexp[..., 1:-1] +\\\n",
    "        0.5*(dt/dt_old)*(fexp[..., 1:-1] - fexp[..., :-2])\n",
    "\n",
    "a_rhs = get_weighted_rhs(a_diff, np.zeros_like(a_diff))\n",
    "c_rhs = get_weighted_rhs(c_diff, np.zeros_like(c_diff))"
   ]
  },
  {
   "cell_type": "code",
   "execution_count": 22,
   "id": "ea207051",
   "metadata": {
    "scrolled": true
   },
   "outputs": [
    {
     "data": {
      "image/png": "[encoded data removed]",
      "text/plain": [
       "<Figure size 360x288 with 1 Axes>"
      ]
     },
     "metadata": {
      "needs_background": "light"
     },
     "output_type": "display_data"
    }
   ],
   "source": [
    "# will use 'r axis a lot'\n",
    "rr = spec.radius/common.rsun\n",
    "\n",
    "# plot errors in stream function equations (ignore l = 0 bit)\n",
    "plt.figure(figsize=(5, 4))\n",
    "plt.scatter(rr, get_err(a_dt, a_rhs, subl0=True), label='A eq')\n",
    "plt.scatter(rr, get_err(c_dt, c_rhs, subl0=True), label='C eq')\n",
    "plt.yscale('log')\n",
    "plt.xlabel('r/rsun')\n",
    "plt.title(dirtag + ' ERR S.F. EQS')\n",
    "plt.legend()\n",
    "plt.tight_layout()\n",
    "plt.savefig(dirtag + '_err_sf.pdf')"
   ]
  },
  {
   "cell_type": "code",
   "execution_count": 23,
   "id": "2d272f68",
   "metadata": {
    "scrolled": true
   },
   "outputs": [
    {
     "name": "stdout",
     "output_type": "stream",
     "text": [
      "A eq err =  [5.24836019e-11 3.65866661e-11 2.73681131e-11 2.95147376e-11\n",
      " 3.26446427e-11 4.88345805e-11 7.53443577e-11 1.71208287e-10\n",
      " 3.42962877e-10]\n",
      "C eq err =  [1.26629685e-10 1.03768536e-10 9.34115947e-11 9.38283541e-11\n",
      " 8.77191662e-11 1.45783569e-10 1.89151925e-10 2.51971059e-10\n",
      " 2.52591729e-10]\n"
     ]
    }
   ],
   "source": [
    "# print these errors\n",
    "print ('A eq err = ', get_err(a_dt, a_rhs, subl0=True))\n",
    "print ('C eq err = ', get_err(c_dt, c_rhs, subl0=True))"
   ]
  },
  {
   "cell_type": "code",
   "execution_count": 24,
   "id": "e77ec0d3",
   "metadata": {},
   "outputs": [
    {
     "name": "stdout",
     "output_type": "stream",
     "text": [
      "r0/rsun = 0.05144981907048454\n"
     ]
    }
   ],
   "source": [
    "# pick a radial location to plot (in RZ for case M)\n",
    "ir0 = 6\n",
    "print ('r0/rsun =', rr[ir0])"
   ]
  },
  {
   "cell_type": "code",
   "execution_count": 25,
   "id": "be40511b",
   "metadata": {},
   "outputs": [
    {
     "data": {
      "image/png": "[encoded data removed]",
      "text/plain": [
       "<Figure size 360x288 with 1 Axes>"
      ]
     },
     "metadata": {
      "needs_background": "light"
     },
     "output_type": "display_data"
    }
   ],
   "source": [
    "# plot A eq error vs time at ir0\n",
    "plt.figure(figsize=(5, 4))\n",
    "plt.plot(t[2:], my_abs(a_dt[..., ir0, :], subl0=True), 'k', label='A (d/dt)')\n",
    "plt.plot(t[2:], my_abs(a_rhs[..., ir0, :], subl0=True), 'r--', label='A  (RHS)')\n",
    "plt.plot(t[2:], my_abs((a_dt-a_rhs)[..., ir0, :], subl0=True), label='difference')\n",
    "plt.yscale('log')\n",
    "plt.legend()\n",
    "\n",
    "# compute how long it would take source term to do anything (in iterations, effectively)\n",
    "# ...i.e., if it would do anything on the timescale of the simulation (millions of iters)\n",
    "# we care about getting it right\n",
    "title = dirtag + ' A ERR AT R =%.3f' %rr[ir0]\n",
    "title += '\\n' + 'mean |dA/dt| = %1.2e' %np.mean(my_abs(a_dt[..., ir0, :], subl0=True))\n",
    "title += '\\n' + 'mean |A| = %1.2e' %np.mean(my_abs(a_var[..., ir0, :], subl0=True))\n",
    "title += '\\n' + '|A|/|dA| = %1.2e' %(np.mean(my_abs(a_var[..., ir0, :], subl0=True))/\\\n",
    "        (np.mean(dt)*np.mean(my_abs(a_dt[..., ir0, :], subl0=True))))\n",
    "plt.title(title)\n",
    "plt.xlabel('time (rot.)')\n",
    "plt.tight_layout()\n",
    "plt.savefig(dirtag + '_aerr_vs_time.pdf')"
   ]
  },
  {
   "cell_type": "code",
   "execution_count": 26,
   "id": "0502f051",
   "metadata": {
    "scrolled": true
   },
   "outputs": [
    {
     "data": {
      "image/png": "[encoded data removed]",
      "text/plain": [
       "<Figure size 360x288 with 1 Axes>"
      ]
     },
     "metadata": {
      "needs_background": "light"
     },
     "output_type": "display_data"
    }
   ],
   "source": [
    "# same for C eq\n",
    "plt.figure(figsize=(5, 4))\n",
    "plt.plot(t[2:], my_abs(c_dt[..., ir0, :], subl0=True), 'k', label='C (d/dt)')\n",
    "plt.plot(t[2:], my_abs(c_rhs[..., ir0, :], subl0=True), 'r--', label='C  (RHS)')\n",
    "plt.plot(t[2:], my_abs((c_dt-c_rhs)[..., ir0, :], subl0=True), label='difference')\n",
    "plt.yscale('log')\n",
    "plt.legend()\n",
    "\n",
    "# compute how long it would take source term to do anything (in iterations, effectively)\n",
    "# ...i.e., if it would do anything on the timescale of the simulation (millions of iters)\n",
    "# we care about getting it right\n",
    "title = dirtag + ' C ERR AT R =%.3f' %rr[ir0]\n",
    "title += '\\n' + 'mean |dC/dt| = %1.2e' %np.mean(my_abs(c_dt[..., ir0, :], subl0=True))\n",
    "title += '\\n' + 'mean |C| = %1.2e' %np.mean(my_abs(c_var[..., ir0, :], subl0=True))\n",
    "title += '\\n' + '|C|/|dC| = %1.2e' %(np.mean(my_abs(c_var[..., ir0, :], subl0=True))/\\\n",
    "        (np.mean(dt)*np.mean(my_abs(c_dt[..., ir0, :], subl0=True))))\n",
    "plt.title(title)\n",
    "plt.xlabel('time (rot.)')\n",
    "plt.tight_layout()\n",
    "plt.savefig(dirtag + '_cerr_vs_time.pdf')"
   ]
  },
  {
   "cell_type": "code",
   "execution_count": 27,
   "id": "7808f1c2",
   "metadata": {},
   "outputs": [],
   "source": [
    "# get radial br equation\n",
    "b = vals[..., lut[801], :]\n",
    "fimp = diff = vals[..., lut[1605], :]\n",
    "dbdt = get_ddt(b)\n",
    "fweighted = get_weighted_rhs(fimp, np.zeros_like(fimp))"
   ]
  },
  {
   "cell_type": "code",
   "execution_count": 28,
   "id": "ca9d8533",
   "metadata": {},
   "outputs": [
    {
     "name": "stdout",
     "output_type": "stream",
     "text": [
      "br = C? err spec =  [0. 0. 0. 0. 0. 0. 0. 0. 0.]\n"
     ]
    }
   ],
   "source": [
    "# get err in \"does br = -l(l+1)C/r^2\"\n",
    "print ('br = C? err spec = ', get_err(b, -c_hlap))"
   ]
  },
  {
   "cell_type": "code",
   "execution_count": 29,
   "id": "e201edaf",
   "metadata": {},
   "outputs": [
    {
     "name": "stdout",
     "output_type": "stream",
     "text": [
      "diff. err spec =  [0.00107099 0.00120072 0.00144247 0.00173967 0.00210762 0.00265748\n",
      " 0.00340367 0.0045519  0.00560959]\n"
     ]
    }
   ],
   "source": [
    "# get err in \"does diffusion = what its supposed to\"\n",
    "print ('diff. err spec = ', get_err(diff, L2/rvals**2*c_diff))"
   ]
  },
  {
   "cell_type": "code",
   "execution_count": 30,
   "id": "49aae98b",
   "metadata": {},
   "outputs": [
    {
     "data": {
      "text/plain": [
       "<matplotlib.legend.Legend at 0x2aaaaed8f150>"
      ]
     },
     "execution_count": 30,
     "metadata": {},
     "output_type": "execute_result"
    },
    {
     "data": {
      "image/png": "[encoded data removed]",
      "text/plain": [
       "<Figure size 432x288 with 1 Axes>"
      ]
     },
     "metadata": {
      "needs_background": "light"
     },
     "output_type": "display_data"
    }
   ],
   "source": [
    "# I think that's my error!\n",
    "\n",
    "# let's multiply C eq. by L2/r^2 (- hor lapl)\n",
    "\n",
    "plt.plot(t[2:], my_abs(((L2/rvals**2)*c_dt)[..., ir0, :], subl0=True), 'k', label='C (d/dt)')\n",
    "plt.plot(t[2:], my_abs(((L2/rvals**2)*c_rhs)[..., ir0, :], subl0=True), 'r--', label='C  (RHS)')\n",
    "plt.plot(t[2:], my_abs(((L2/rvals**2)*(c_dt-c_rhs))[..., ir0, :], subl0=True), label='difference')\n",
    "plt.yscale('log')\n",
    "plt.legend()"
   ]
  },
  {
   "cell_type": "code",
   "execution_count": 31,
   "id": "7d63320d",
   "metadata": {},
   "outputs": [],
   "source": [
    "# all good..."
   ]
  },
  {
   "cell_type": "code",
   "execution_count": 32,
   "id": "953182d8",
   "metadata": {},
   "outputs": [
    {
     "data": {
      "text/plain": [
       "Text(0.5, 1.0, 'induct totals (r) spec')"
      ]
     },
     "execution_count": 32,
     "metadata": {},
     "output_type": "execute_result"
    },
    {
     "data": {
      "image/png": "[encoded data removed]",
      "text/plain": [
       "<Figure size 432x288 with 1 Axes>"
      ]
     },
     "metadata": {
      "needs_background": "light"
     },
     "output_type": "display_data"
    }
   ],
   "source": [
    "# plot the B_r equation\n",
    "plt.plot(t[2:], my_abs(dbdt - fweighted, subl0=True)[ir0, :], 'b', label='LHS - RHS')\n",
    "plt.plot(t[2:], my_abs(dbdt, subl0=True)[ir0, :], 'k', label='dB_r /dt (numderiv)')\n",
    "plt.plot(t[2:], my_abs(fweighted, subl0=True)[ir0, :], 'r--', label='weighted RHS')\n",
    "plt.yscale('log')\n",
    "\n",
    "# label\n",
    "plt.legend()\n",
    "plt.xlabel('time (prot)')\n",
    "plt.ylabel('induction (G/s)')\n",
    "plt.title('induct totals (r) spec')"
   ]
  },
  {
   "cell_type": "code",
   "execution_count": 33,
   "id": "523f93eb",
   "metadata": {},
   "outputs": [
    {
     "data": {
      "text/plain": [
       "Text(0.5, 1.0, 'induct totals (r) spec')"
      ]
     },
     "execution_count": 33,
     "metadata": {},
     "output_type": "execute_result"
    },
    {
     "data": {
      "image/png": "[encoded data removed]",
      "text/plain": [
       "<Figure size 432x288 with 1 Axes>"
      ]
     },
     "metadata": {
      "needs_background": "light"
     },
     "output_type": "display_data"
    }
   ],
   "source": [
    "# plot the B_r equation, now with l(l+1)/r^2 RHS C eq\n",
    "plt.plot(t[2:], my_abs(dbdt - L2/rvals**2*c_rhs, subl0=True)[ir0, :], 'b', label='LHS - RHS(C)')\n",
    "plt.plot(t[2:], my_abs(dbdt, subl0=True)[ir0, :], 'k', label='dB_r /dt (numderiv)')\n",
    "plt.plot(t[2:], my_abs(L2/rvals**2*c_rhs, subl0=True)[ir0, :], 'r--', label='weighted RHS(C)')\n",
    "plt.yscale('log')\n",
    "\n",
    "# label\n",
    "plt.legend()\n",
    "plt.xlabel('time (prot)')\n",
    "plt.ylabel('induction (G/s)')\n",
    "plt.title('induct totals (r) spec')"
   ]
  },
  {
   "cell_type": "code",
   "execution_count": 34,
   "id": "dadbcc6e",
   "metadata": {},
   "outputs": [
    {
     "data": {
      "text/plain": [
       "Text(0.5, 1.0, 'induct totals (r) spec [l = 1, m = 0]')"
      ]
     },
     "execution_count": 34,
     "metadata": {},
     "output_type": "execute_result"
    },
    {
     "data": {
      "image/png": "[encoded data removed]",
      "text/plain": [
       "<Figure size 432x288 with 1 Axes>"
      ]
     },
     "metadata": {
      "needs_background": "light"
     },
     "output_type": "display_data"
    }
   ],
   "source": [
    "# pick particular l, m value (m = 1 has most power in case M)\n",
    "l0 = 1\n",
    "m0 = 0\n",
    "\n",
    "# plot the B_r equation\n",
    "plt.plot(t[2:], np.abs((dbdt - fweighted)[l0, m0, ir0, :]), 'b', label='LHS - RHS')\n",
    "plt.plot(t[2:], np.abs(dbdt[l0, m0, ir0, :]), 'k', label='LHS')\n",
    "plt.plot(t[2:], np.abs(fweighted[l0, m0, ir0, :]), 'r--', label='weighted RHS')\n",
    "plt.yscale('log')\n",
    "\n",
    "# label\n",
    "plt.legend()\n",
    "plt.xlabel('time (prot)')\n",
    "plt.ylabel('induction (G/s)')\n",
    "plt.title('induct totals (r) spec [l = %i, m = %i]' %(l0, m0))"
   ]
  },
  {
   "cell_type": "code",
   "execution_count": 35,
   "id": "31be687a",
   "metadata": {},
   "outputs": [
    {
     "data": {
      "text/plain": [
       "Text(0.5, 1.0, 'induct totals (r) spec [l = 9, m = 0]')"
      ]
     },
     "execution_count": 35,
     "metadata": {},
     "output_type": "execute_result"
    },
    {
     "data": {
      "image/png": "[encoded data removed]",
      "text/plain": [
       "<Figure size 432x288 with 1 Axes>"
      ]
     },
     "metadata": {
      "needs_background": "light"
     },
     "output_type": "display_data"
    }
   ],
   "source": [
    "# pick particular l, m value --- higher l\n",
    "l0 = 9\n",
    "m0 = 0\n",
    "\n",
    "# plot the B_r equation\n",
    "plt.plot(t[2:], np.abs((dbdt - fweighted)[l0, m0, ir0, :]), 'b', label='LHS - RHS')\n",
    "plt.plot(t[2:], np.abs(dbdt[l0, m0, ir0, :]), 'k', label='LHS')\n",
    "plt.plot(t[2:], np.abs(fweighted[l0, m0, ir0, :]), 'r--', label='weighted RHS')\n",
    "plt.yscale('log')\n",
    "\n",
    "# label\n",
    "plt.legend()\n",
    "plt.xlabel('time (prot)')\n",
    "plt.ylabel('induction (G/s)')\n",
    "plt.title('induct totals (r) spec [l = %i, m = %i]' %(l0, m0))"
   ]
  },
  {
   "cell_type": "code",
   "execution_count": 36,
   "id": "043d6a06",
   "metadata": {},
   "outputs": [
    {
     "data": {
      "text/plain": [
       "Text(0.5, 1.0, 'induct totals (r) spec [l = 8, m = 7]')"
      ]
     },
     "execution_count": 36,
     "metadata": {},
     "output_type": "execute_result"
    },
    {
     "data": {
      "image/png": "[encoded data removed]",
      "text/plain": [
       "<Figure size 432x288 with 1 Axes>"
      ]
     },
     "metadata": {
      "needs_background": "light"
     },
     "output_type": "display_data"
    }
   ],
   "source": [
    "# pick particular l, m value -- higher m\n",
    "l0 = 8\n",
    "m0 = 7\n",
    "\n",
    "# plot the B_r equation\n",
    "plt.plot(t[2:], np.abs((dbdt - fweighted)[l0, m0, ir0, :]), 'b', label='LHS - RHS')\n",
    "plt.plot(t[2:], np.abs(dbdt[l0, m0, ir0, :]), 'k', label='LHS')\n",
    "plt.plot(t[2:], np.abs(fweighted[l0, m0, ir0, :]), 'r--', label='weighted RHS')\n",
    "plt.yscale('log')\n",
    "\n",
    "# label\n",
    "plt.legend()\n",
    "plt.xlabel('time (prot)')\n",
    "plt.ylabel('induction (G/s)')\n",
    "plt.title('induct totals (r) spec [l = %i, m = %i]' %(l0, m0))"
   ]
  },
  {
   "cell_type": "code",
   "execution_count": 37,
   "id": "285e370c",
   "metadata": {},
   "outputs": [],
   "source": [
    "# now check the b_theta and b_phi equations\n",
    "br = vals[..., lut[801], :]\n",
    "bt = vals[..., lut[802], :]\n",
    "bp = vals[..., lut[803], :]\n",
    "\n",
    "diffr = vals[..., lut[1605], :]\n",
    "difft = vals[..., lut[1610], :]\n",
    "diffp = vals[..., lut[1615], :]\n",
    "\n",
    "diffr_sf = vals[..., lut[2911], :]\n",
    "difft_sf = vals[..., lut[2912], :]\n",
    "diffp_sf = vals[..., lut[2913], :]"
   ]
  },
  {
   "cell_type": "code",
   "execution_count": 38,
   "id": "060c27e0",
   "metadata": {},
   "outputs": [],
   "source": [
    "dbdt_r = get_ddt(br)\n",
    "dbdt_t = get_ddt(bt)\n",
    "dbdt_p = get_ddt(bp)\n",
    "\n",
    "fweightedr = get_weighted_rhs(diffr, np.zeros_like(diffr))\n",
    "fweightedr_sf = get_weighted_rhs(diffr_sf, np.zeros_like(diffr_sf))\n",
    "\n",
    "fweightedt = get_weighted_rhs(difft, np.zeros_like(difft))\n",
    "fweightedt_sf = get_weighted_rhs(difft_sf, np.zeros_like(difft_sf))\n",
    "\n",
    "fweightedp = get_weighted_rhs(diffp, np.zeros_like(diffp))\n",
    "fweightedp_sf = get_weighted_rhs(diffp_sf, np.zeros_like(diffp_sf))"
   ]
  },
  {
   "cell_type": "code",
   "execution_count": 39,
   "id": "e07e6d44",
   "metadata": {
    "scrolled": true
   },
   "outputs": [
    {
     "data": {
      "image/png": "[encoded data removed]",
      "text/plain": [
       "<Figure size 360x288 with 1 Axes>"
      ]
     },
     "metadata": {
      "needs_background": "light"
     },
     "output_type": "display_data"
    }
   ],
   "source": [
    "# plot errors in stream function equations (ignore l = 0 bit)\n",
    "plt.figure(figsize=(5, 4))\n",
    "plt.scatter(rr, get_err(dbdt_r, fweightedr, subl0=True), label='Br eq')\n",
    "plt.scatter(rr, get_err(dbdt_t, fweightedt), label='Bt eq')\n",
    "plt.scatter(rr, get_err(dbdt_t, fweightedp), label='Bp eq')\n",
    "plt.yscale('log')\n",
    "plt.xlabel('r/rsun')\n",
    "plt.title(dirtag + ' ERR B EQS')\n",
    "plt.legend()\n",
    "plt.tight_layout()\n",
    "plt.savefig(dirtag + '_err_ind.pdf')"
   ]
  },
  {
   "cell_type": "code",
   "execution_count": 40,
   "id": "9b95d8ac",
   "metadata": {
    "scrolled": false
   },
   "outputs": [
    {
     "name": "stdout",
     "output_type": "stream",
     "text": [
      "Br eq err =  [0.00107099 0.00120071 0.00144247 0.00173967 0.00210762 0.00265747\n",
      " 0.00340367 0.00455189 0.00560958]\n",
      "Bt eq err =  [2.00080894e-08 2.69100055e-08 3.61500183e-08 7.55036444e-09\n",
      " 5.57869956e-09 5.53878020e-09 4.48197766e-09 4.37093762e-09\n",
      " 7.45488677e-09]\n",
      "Bp eq err =  [5.51864842e-11 4.14575472e-11 3.04726504e-11 3.45598756e-11\n",
      " 3.77961556e-11 5.16337332e-11 7.94175197e-11 1.72819058e-10\n",
      " 3.44077930e-10]\n"
     ]
    }
   ],
   "source": [
    "# print these errors\n",
    "print ('Br eq err = ', get_err(dbdt_r, fweightedr, subl0=True))\n",
    "print ('Bt eq err = ', get_err(dbdt_t, fweightedt))\n",
    "print ('Bp eq err = ', get_err(dbdt_p, fweightedp))"
   ]
  },
  {
   "cell_type": "code",
   "execution_count": 41,
   "id": "75c68c16",
   "metadata": {
    "scrolled": true
   },
   "outputs": [
    {
     "data": {
      "image/png": "[encoded data removed]",
      "text/plain": [
       "<Figure size 360x288 with 1 Axes>"
      ]
     },
     "metadata": {
      "needs_background": "light"
     },
     "output_type": "display_data"
    }
   ],
   "source": [
    "# plot errors B equation with new \"spectral\" stream function outputs for diffusions\n",
    "plt.figure(figsize=(5, 4))\n",
    "plt.scatter(rr, get_err(dbdt_r, fweightedr_sf, subl0=True), label='Br eq')\n",
    "plt.scatter(rr, get_err(dbdt_t, fweightedt_sf), label='Bt eq')\n",
    "plt.scatter(rr, get_err(dbdt_t, fweightedp_sf), label='Bp eq')\n",
    "plt.yscale('log')\n",
    "plt.xlabel('r/rsun')\n",
    "plt.title(dirtag + ' ERR B EQS (SPECTRAL)')\n",
    "plt.legend()\n",
    "plt.tight_layout()\n",
    "plt.savefig(dirtag + '_err_ind_spectral.pdf')"
   ]
  },
  {
   "cell_type": "code",
   "execution_count": 42,
   "id": "5dd49031",
   "metadata": {
    "scrolled": false
   },
   "outputs": [
    {
     "name": "stdout",
     "output_type": "stream",
     "text": [
      "Br eq err (spectral) =  [1.09535797e-10 1.00852804e-10 1.13495179e-10 9.46023016e-11\n",
      " 9.76442059e-11 1.45823048e-10 1.87945052e-10 2.53216387e-10\n",
      " 2.49659454e-10]\n",
      "Bt eq err (spectral) =  [2.00270492e-08 2.69905903e-08 3.61133642e-08 7.57983171e-09\n",
      " 5.57474049e-09 5.51493856e-09 4.47535997e-09 4.36987547e-09\n",
      " 7.45083856e-09]\n",
      "Bp eq err (spectral) =  [5.50774686e-11 4.12998233e-11 3.01566154e-11 3.41882933e-11\n",
      " 3.72835758e-11 5.09549969e-11 7.86212262e-11 1.72048609e-10\n",
      " 3.43297790e-10]\n"
     ]
    }
   ],
   "source": [
    "# print these errors\n",
    "print ('Br eq err (spectral) = ', get_err(dbdt_r, fweightedr_sf, subl0=True))\n",
    "print ('Bt eq err (spectral) = ', get_err(dbdt_t, fweightedt_sf))\n",
    "print ('Bp eq err (spectral) = ', get_err(dbdt_p, fweightedp_sf))"
   ]
  },
  {
   "cell_type": "code",
   "execution_count": null,
   "id": "334c81bb",
   "metadata": {},
   "outputs": [],
   "source": []
  }
 ],
 "metadata": {
  "kernelspec": {
   "display_name": "Python 3",
   "language": "python",
   "name": "python3"
  },
  "language_info": {
   "codemirror_mode": {
    "name": "ipython",
    "version": 3
   },
   "file_extension": ".py",
   "mimetype": "text/x-python",
   "name": "python",
   "nbconvert_exporter": "python",
   "pygments_lexer": "ipython3",
   "version": "3.7.10"
  }
 },
 "nbformat": 4,
 "nbformat_minor": 5
}
